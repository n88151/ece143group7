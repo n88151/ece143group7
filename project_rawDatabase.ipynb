{
 "cells": [
  {
   "cell_type": "code",
   "execution_count": 21,
   "metadata": {},
   "outputs": [],
   "source": [
    "import spotipy\n",
    "from spotipy.oauth2 import SpotifyClientCredentials\n",
    "\n",
    "client_credentials_manager = SpotifyClientCredentials(client_id = '2a6e271d80b34dc7b7553ccef68aa4c4',client_secret = '4c0c2160a8b44d48857875296198537d')\n",
    "sp = spotipy.Spotify(client_credentials_manager=client_credentials_manager)\n",
    "\n",
    "playlists = sp.user_playlists('spotify')\n",
    "#tracks = sp.user_playlist_tracks('spotify', playlist_id)\n",
    "#print playlists[1]\n",
    "with open('rawData.txt','w') as fw:\n",
    "    while playlists:\n",
    "        for i, playlist in enumerate(playlists['items']):\n",
    "            #print(\"%4d %s %s\" % (i + 1 + playlists['offset'], playlist['uri'],  playlist['name']))\n",
    "            #print playlist['uri'].replace('spotify:user:spotify:playlist:','')\n",
    "            fw.write(playlist['uri'].replace('spotify:user:spotify:playlist:','').replace('spotify:user:spotifycharts:playlist:','').replace('spotify:user:br%C3%A5valla.festival:playlist:',''))\n",
    "            fw.write(\"    \" + playlist['name'].encode('utf8')+'\\n')        \n",
    "        if playlists['next']:\n",
    "            playlists = sp.next(playlists)\n",
    "        else:\n",
    "            playlists = None"
   ]
  },
  {
   "cell_type": "code",
   "execution_count": 25,
   "metadata": {},
   "outputs": [
    {
     "name": "stdout",
     "output_type": "stream",
     "text": [
      "{u'name': u'foodora dinner playlist', u'collaborative': False, u'external_urls': {u'spotify': u'https://open.spotify.com/user/spotify/playlist/4lgseztVwmKQ8MNETPVIny'}, u'uri': u'spotify:user:spotify:playlist:4lgseztVwmKQ8MNETPVIny', u'public': True, u'owner': {u'display_name': u'Spotify', u'external_urls': {u'spotify': u'https://open.spotify.com/user/spotify'}, u'uri': u'spotify:user:spotify', u'href': u'https://api.spotify.com/v1/users/spotify', u'type': u'user', u'id': u'spotify'}, u'tracks': {u'total': 25, u'href': u'https://api.spotify.com/v1/users/spotify/playlists/4lgseztVwmKQ8MNETPVIny/tracks'}, u'href': u'https://api.spotify.com/v1/users/spotify/playlists/4lgseztVwmKQ8MNETPVIny', u'snapshot_id': u'sjHPX6rvsgaq8naxUR4OWMHT1ijAOVGvACj01KbJbBoCGLH2AinEIvda22uUkq0c', u'images': [{u'url': u'https://mosaic.scdn.co/640/137237d9dae101dabca2aefb9e8d9b9980f4ffd77395b879b24be999705701931b042642de38af73b3d079a2e81e76d5f4f7f570a91a54a1f09dd93db68b39fdc2409d0f526ad48775ddcd93ff496cda', u'width': 640, u'height': 640}, {u'url': u'https://mosaic.scdn.co/300/137237d9dae101dabca2aefb9e8d9b9980f4ffd77395b879b24be999705701931b042642de38af73b3d079a2e81e76d5f4f7f570a91a54a1f09dd93db68b39fdc2409d0f526ad48775ddcd93ff496cda', u'width': 300, u'height': 300}, {u'url': u'https://mosaic.scdn.co/60/137237d9dae101dabca2aefb9e8d9b9980f4ffd77395b879b24be999705701931b042642de38af73b3d079a2e81e76d5f4f7f570a91a54a1f09dd93db68b39fdc2409d0f526ad48775ddcd93ff496cda', u'width': 60, u'height': 60}], u'primary_color': None, u'type': u'playlist', u'id': u'4lgseztVwmKQ8MNETPVIny'}\n"
     ]
    }
   ],
   "source": [
    "f=open('rawData.txt','w')\n",
    "print playlist"
   ]
  }
 ],
 "metadata": {
  "kernelspec": {
   "display_name": "Python 2",
   "language": "python",
   "name": "python2"
  },
  "language_info": {
   "codemirror_mode": {
    "name": "ipython",
    "version": 2
   },
   "file_extension": ".py",
   "mimetype": "text/x-python",
   "name": "python",
   "nbconvert_exporter": "python",
   "pygments_lexer": "ipython2",
   "version": "2.7.14"
  }
 },
 "nbformat": 4,
 "nbformat_minor": 2
}
