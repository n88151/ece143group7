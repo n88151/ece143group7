{
 "cells": [
  {
   "cell_type": "code",
   "execution_count": 1,
   "metadata": {},
   "outputs": [],
   "source": [
    "import pandas as pd"
   ]
  },
  {
   "cell_type": "code",
   "execution_count": 5,
   "metadata": {},
   "outputs": [
    {
     "data": {
      "text/plain": [
       "0     15sDdGOxQKLyrXggKd3qQm\n",
       "1     6KTkeCYyXhRcH33Vmgwt9g\n",
       "2     7bwZL55J8V07ePrkFd5czQ\n",
       "3     38IWWXIaSTRUhskMC46VAI\n",
       "4     42C7PVH57OL3bz1uoHT5S1\n",
       "5     2H2XMLoltCvkGfph4dqX7k\n",
       "6     0k3HhJAt26YazworMFfeFt\n",
       "7     1LrhnxZ40cjaVZn1Bzs6BJ\n",
       "8     5IhYi7Dq247vMoGPQoAhzq\n",
       "9     0X48RuFWc8ed8bkQZnF0SM\n",
       "10    4HNl4ozVTYtHsBpRHuHfcd\n",
       "11    6M7Qcz9ZcqsZHzBwoNzx0g\n",
       "12    5NyMz4f7eKvzz0eJKQBIAZ\n",
       "13    5mGURa1YDfldQkXrQzjDBn\n",
       "14    7cAGdtcXLcnSWTJSaVnO6V\n",
       "15    6lQ9DBIWX5fls8R1Ym0Hsw\n",
       "16    5CtSjtESWS1IvpEJhyv8ot\n",
       "17    6wa5WccVt33Cuu3zRv9lam\n",
       "18    6ScufdzYjsaveIirsZ8knH\n",
       "19    4UvNR7T8arx0LOBk33L3XK\n",
       "20    0LUJ2r5d0vlPk4MEhWl7ro\n",
       "21    4PFTf2Mn37CSNvvFzZRdqY\n",
       "22    3JHkaeEu57t2CSmOwxc0SJ\n",
       "23    66MxSSoin9M05nx41pc5JH\n",
       "24    09JgeEUp7ch8Hv1PYtc9YI\n",
       "25    0ZEudfjLbLF4zpktpR2SIL\n",
       "26    6CZ8yejJfVxxanZjRpduaE\n",
       "27    27WHFpCiBXknY6YByJeBF5\n",
       "28    1NZuJAiqEnlq9gr1uaMhFc\n",
       "29    02Fl58nfF0wlcs87GAN1W6\n",
       "               ...          \n",
       "35    1oqniN5rzgvhAWoq4HgY2W\n",
       "36    5WZggVdS3epwbcGvaU9fPc\n",
       "37    4FQXpp0v9RkOSxdXdlhOSU\n",
       "38    5MApVTEXZD7elsoCiN43XS\n",
       "39    2jHSMG4rZxFxBc24jEJz6A\n",
       "40    1awdo11NQFC6THLXQAaDjV\n",
       "41    4Dnss7a0Fobyvw2aWBnDzm\n",
       "42    4LA95C7OJcsqDlUAXnkwRc\n",
       "43    1iqlQjZ07vr5S94PP2sxzg\n",
       "44    6jq6rcOikCZAmjliAgAmfT\n",
       "45    5tRe04OGW8Eqw0leVbRBGe\n",
       "46    7pstxLUhvsJC3M4TxHe2aI\n",
       "47    5F1MQ72ZULcFuFuOC3OZ7l\n",
       "48    0qDjX7TBrskshXMnnZWF7D\n",
       "49    0wYFM3YnWjpXToYuEOvCaZ\n",
       "50    0ikbanJl4WHDtWYcAAFpmj\n",
       "51    0ecnuqbOdqll7MYHJPZTZr\n",
       "52    68egp0iUuHKwEANX11VJt8\n",
       "53    2UjqeF8JPOIeKfZmrCtGSl\n",
       "54    515yxyvwECKylq14awkp2L\n",
       "55    6K1Mn0ZkmruilUIemjswnL\n",
       "56    2e6he0ydsChPv44oTVC7CO\n",
       "57    18DLRTB6fkqU97CiTWQggO\n",
       "58    2Mk2Zi0tpRtum6e5ZnhN0k\n",
       "59    4pTlBKtciFal1hXOLb4P5W\n",
       "60    7bCVly6xfgbwmLDUHdAzg8\n",
       "61    7o9uwrCNd1GFVqpzpHroyZ\n",
       "62    7oxHuO9SjL68Ap36maD7zQ\n",
       "63    0QQHP616ogIfZmBdptvxbd\n",
       "64    5yFSF6qQA1rcLsQRnBsZgb\n",
       "Name: Spotify ID, Length: 65, dtype: object"
      ]
     },
     "execution_count": 5,
     "metadata": {},
     "output_type": "execute_result"
    }
   ],
   "source": [
    "df = pd.read_csv(\"./edm_music_features.csv\")\n",
    "df['Spotify ID']"
   ]
  },
  {
   "cell_type": "code",
   "execution_count": null,
   "metadata": {},
   "outputs": [],
   "source": []
  }
 ],
 "metadata": {
  "kernelspec": {
   "display_name": "Python 2",
   "language": "python",
   "name": "python2"
  },
  "language_info": {
   "codemirror_mode": {
    "name": "ipython",
    "version": 2
   },
   "file_extension": ".py",
   "mimetype": "text/x-python",
   "name": "python",
   "nbconvert_exporter": "python",
   "pygments_lexer": "ipython2",
   "version": "2.7.14"
  }
 },
 "nbformat": 4,
 "nbformat_minor": 2
}
